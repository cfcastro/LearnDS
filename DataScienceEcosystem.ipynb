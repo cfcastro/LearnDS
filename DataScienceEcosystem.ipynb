{
 "cells": [
  {
   "cell_type": "markdown",
   "id": "4faea90a-a99d-4501-9cc2-ec90346e9c7d",
   "metadata": {},
   "source": [
    "#Data Science Tools and Ecosystem"
   ]
  },
  {
   "cell_type": "markdown",
   "id": "2d096856-5452-476f-8ad6-8f04ff620c5d",
   "metadata": {},
   "source": [
    "##In this notebook, Data Science Tools and Ecosystem are summarized."
   ]
  },
  {
   "cell_type": "markdown",
   "id": "62a6347e-1f84-4656-a0e4-b286ac22284d",
   "metadata": {},
   "source": [
    "**Objectives:**\n",
    "1. List popular languages for data science\n",
    "1. List libraries commonly used by data scientists\n",
    "1. Practice evaluating arithmetic expressions"
   ]
  },
  {
   "cell_type": "markdown",
   "id": "6e2516fd-8188-47bc-90a6-a7af2cbf40b2",
   "metadata": {},
   "source": [
    "Some of the popular languages that Data Scientists use are:\n",
    "1. Python\n",
    "1. R\n",
    "1. Julia"
   ]
  },
  {
   "cell_type": "markdown",
   "id": "811e7084-f242-4c02-980d-081d0959d596",
   "metadata": {},
   "source": [
    "Some of the commonly used libraries used by Data Scientists include:\n",
    "1. ggplot\n",
    "2. caret\n",
    "3. matplotlib"
   ]
  },
  {
   "cell_type": "markdown",
   "id": "4511d761-a01c-4747-aa50-48ef8f1f191d",
   "metadata": {},
   "source": [
    "Data Science Tools\n",
    "1. R Studio\n",
    "1. VS Code\n",
    "1. Anaconda"
   ]
  },
  {
   "cell_type": "markdown",
   "id": "1558dd40-bdf4-4339-9e80-2d386a6db487",
   "metadata": {},
   "source": [
    "###Below are a few examples of evaluating arithmetic expressions in Python"
   ]
  },
  {
   "cell_type": "code",
   "execution_count": 1,
   "id": "a210148a-721a-4306-ad87-20df06e33633",
   "metadata": {
    "tags": []
   },
   "outputs": [
    {
     "data": {
      "text/plain": [
       "17"
      ]
     },
     "execution_count": 1,
     "metadata": {},
     "output_type": "execute_result"
    }
   ],
   "source": [
    "#This a simple arithmetic expression to mutiply then add integers\n",
    "(3*4)+5"
   ]
  },
  {
   "cell_type": "code",
   "execution_count": 2,
   "id": "e5775d1a-3785-4ce1-abd9-3473ea60661e",
   "metadata": {
    "tags": []
   },
   "outputs": [
    {
     "data": {
      "text/plain": [
       "3.3333333333333335"
      ]
     },
     "execution_count": 2,
     "metadata": {},
     "output_type": "execute_result"
    }
   ],
   "source": [
    "# This will convert 200 minutes to hours by diving by 60\n",
    "200/60"
   ]
  },
  {
   "cell_type": "markdown",
   "id": "b321666b-29d3-401b-95a3-ee663ea66eae",
   "metadata": {},
   "source": [
    "##Author\n",
    "\n",
    "Carlos Castro"
   ]
  },
  {
   "cell_type": "code",
   "execution_count": null,
   "id": "e3b432c1-0b4c-4219-ba2d-367ac7e5e191",
   "metadata": {},
   "outputs": [],
   "source": []
  }
 ],
 "metadata": {
  "kernelspec": {
   "display_name": "Python",
   "language": "python",
   "name": "conda-env-python-py"
  },
  "language_info": {
   "codemirror_mode": {
    "name": "ipython",
    "version": 3
   },
   "file_extension": ".py",
   "mimetype": "text/x-python",
   "name": "python",
   "nbconvert_exporter": "python",
   "pygments_lexer": "ipython3",
   "version": "3.7.12"
  }
 },
 "nbformat": 4,
 "nbformat_minor": 5
}
